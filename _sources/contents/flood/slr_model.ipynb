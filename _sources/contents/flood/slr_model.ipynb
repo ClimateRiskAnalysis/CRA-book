{
 "cells": [
  {
   "cell_type": "markdown",
   "metadata": {},
   "source": [
    "# Selecting A Sea Level Model"
   ]
  },
  {
   "cell_type": "code",
   "execution_count": 4,
   "metadata": {},
   "outputs": [
    {
     "ename": "ErrorException",
     "evalue": "syntax: \"%\" is not a unary operator",
     "output_type": "error",
     "traceback": [
      "syntax: \"%\" is not a unary operator\n",
      "\n",
      "Stacktrace:\n",
      "  [1] top-level scope\n",
      "    @ ~/Teaching/CRA-book/contents/flood/slr_model.ipynb:1\n",
      "  [2] eval\n",
      "    @ ./boot.jl:360 [inlined]\n",
      "  [3] include_string(mapexpr::typeof(REPL.softscope), mod::Module, code::String, filename::String)\n",
      "    @ Base ./loading.jl:1116\n",
      "  [4] #invokelatest#2\n",
      "    @ ./essentials.jl:708 [inlined]\n",
      "  [5] invokelatest\n",
      "    @ ./essentials.jl:706 [inlined]\n",
      "  [6] (::VSCodeServer.var\"#160#161\"{VSCodeServer.NotebookRunCellArguments, String})()\n",
      "    @ VSCodeServer ~/.vscode/extensions/julialang.language-julia-1.6.17/scripts/packages/VSCodeServer/src/serve_notebook.jl:19\n",
      "  [7] withpath(f::VSCodeServer.var\"#160#161\"{VSCodeServer.NotebookRunCellArguments, String}, path::String)\n",
      "    @ VSCodeServer ~/.vscode/extensions/julialang.language-julia-1.6.17/scripts/packages/VSCodeServer/src/repl.jl:184\n",
      "  [8] notebook_runcell_request(conn::VSCodeServer.JSONRPC.JSONRPCEndpoint{Base.PipeEndpoint, Base.PipeEndpoint}, params::VSCodeServer.NotebookRunCellArguments)\n",
      "    @ VSCodeServer ~/.vscode/extensions/julialang.language-julia-1.6.17/scripts/packages/VSCodeServer/src/serve_notebook.jl:13\n",
      "  [9] dispatch_msg(x::VSCodeServer.JSONRPC.JSONRPCEndpoint{Base.PipeEndpoint, Base.PipeEndpoint}, dispatcher::VSCodeServer.JSONRPC.MsgDispatcher, msg::Dict{String, Any})\n",
      "    @ VSCodeServer.JSONRPC ~/.vscode/extensions/julialang.language-julia-1.6.17/scripts/packages/JSONRPC/src/typed.jl:67\n",
      " [10] serve_notebook(pipename::String, outputchannel_logger::Base.CoreLogging.SimpleLogger; crashreporting_pipename::String)\n",
      "    @ VSCodeServer ~/.vscode/extensions/julialang.language-julia-1.6.17/scripts/packages/VSCodeServer/src/serve_notebook.jl:136\n",
      " [11] top-level scope\n",
      "    @ ~/.vscode/extensions/julialang.language-julia-1.6.17/scripts/notebook/notebook.jl:32\n",
      " [12] include(mod::Module, _path::String)\n",
      "    @ Base ./Base.jl:386\n",
      " [13] exec_options(opts::Base.JLOptions)\n",
      "    @ Base ./client.jl:285\n",
      " [14] _start()\n",
      "    @ Base ./client.jl:485"
     ]
    }
   ],
   "source": [
    "import Pkg\n",
    "Pkg.activate(\".\"; io=devnull);\n",
    "Pkg.instantiate(; io=devnull);"
   ]
  },
  {
   "cell_type": "markdown",
   "metadata": {},
   "source": [
    "\n",
    "\n",
    "## Candidate Models\n",
    "\n",
    "A key consideration in any modeling exercise is the mathematical representation of the modeled process. This choice can allow or prohibit certain relationships between variables, or may result in too many or too few parameters to appropriately capture dynamics. For example, a simple linear model in time, \n",
    "```{math}\n",
    "H_\\text{lin}(t) = a + b*(t - t_0),\n",
    "```\n",
    "where $H$ is global sea level in $m$, $t$ is time in years and $t_0$ is a baseline year, does not allow for accelerated sea-level rise. A quadratic model in time, \n",
    "```{math}\n",
    "H_\\text{quad}(t) = a + b*(t - t_0) + c*(t - t_0)^2,\n",
    "```\n",
    "does allow for this acceleration. \n",
    "\n",
    "However, both of these models assume that time is the key variable explaining changes in sea levels from one year to another. In [](sec:flood_intro), we discussed the relationship between CO_2 concentrations, atmospheric temperature, and sea levels. {cite:t}`rahmstorfSemiEmpiricalApproachProjecting2007` proposed the following semi-empirical model relating sea-level rise (SLR) to changes in global mean temperatures:\n",
    "```{math}\n",
    "\\Delta H_\\text{emp}/\\Delta t = \\alpha \\left(T(t) - T_{\\text{eq}}\\right),\n",
    "```\n",
    "or\n",
    "```{math}\n",
    "H_\\text{emp}(t) - H_0 = \\alpha \\left(T(t) - T_{\\text{eq}}\\right),\n",
    "```\n",
    "where $\\alpha$ is the sensitivity of SLR to temperature changes, and $T_\\text{eq}$ is the temperature when $H(t) = H_0$. In the next section, we will look at how we can calibrate these models to sea-level data and analyze their dynamics."
   ]
  },
  {
   "cell_type": "markdown",
   "metadata": {},
   "source": [
    "## Loading and Plotting The Data\n",
    "\n",
    "To fit the three models described in [](sec:candidate-slr-model), we need to load historical SLR data (for all three models) and global mean temperature (GMT) data (for $H_\\text{emp}$). We have provided two data sets in `contents/flood/data`.\n",
    "\n",
    "### SLR Data\n",
    "\n",
    "The SLR dataset was taken from Australia's [Commonwealth Scientific and Industrial Research Organization (CSIRO)](https://research.csiro.au/slrwavescoast/sea-level/measurements-and-data/sea-level-data/) and described in {cite:t}[Church2011-bj]. This reconstruction of global mean sea levels spans 1880--2013. The data files, `CSIRO_Recons_gmsl_yr_2015.txt`, has three columns:\n",
    "1. Time in years (the fractions correspond to months);\n",
    "2. Global mean sea-level in $mm$;\n",
    "3. Standard deviation of the observational error in $mm$.\n",
    "It is also tab-delimited, and there are no header rows or any rows to skip.\n",
    "\n",
    "In Julia, we can read in this file using the [`DelimitedFiles` package](https://docs.julialang.org/en/v1/stdlib/DelimitedFiles/)."
   ]
  },
  {
   "cell_type": "code",
   "execution_count": 3,
   "metadata": {},
   "outputs": [
    {
     "ename": "ArgumentError",
     "evalue": "ArgumentError: Cannot open 'data/CSIRO_Recons_gmsl_yr_2015.txt': not a file",
     "output_type": "error",
     "traceback": [
      "ArgumentError: Cannot open 'data/CSIRO_Recons_gmsl_yr_2015.txt': not a file\n",
      "\n",
      "Stacktrace:\n",
      "  [1] readdlm_auto(input::String, dlm::Char, T::Type, eol::Char, auto::Bool; opts::Base.Iterators.Pairs{Symbol, Bool, Tuple{Symbol}, NamedTuple{(:header,), Tuple{Bool}}})\n",
      "    @ DelimitedFiles /Users/julia/buildbot/worker/package_macos64/build/usr/share/julia/stdlib/v1.6/DelimitedFiles/src/DelimitedFiles.jl:233\n",
      "  [2] #readdlm#5\n",
      "    @ /Users/julia/buildbot/worker/package_macos64/build/usr/share/julia/stdlib/v1.6/DelimitedFiles/src/DelimitedFiles.jl:170 [inlined]\n",
      "  [3] #readdlm#3\n",
      "    @ /Users/julia/buildbot/worker/package_macos64/build/usr/share/julia/stdlib/v1.6/DelimitedFiles/src/DelimitedFiles.jl:118 [inlined]\n",
      "  [4] top-level scope\n",
      "    @ ~/Teaching/CRA-book/contents/flood/slr_model.ipynb:6\n",
      "  [5] eval\n",
      "    @ ./boot.jl:360 [inlined]\n",
      "  [6] include_string(mapexpr::typeof(REPL.softscope), mod::Module, code::String, filename::String)\n",
      "    @ Base ./loading.jl:1116\n",
      "  [7] #invokelatest#2\n",
      "    @ ./essentials.jl:708 [inlined]\n",
      "  [8] invokelatest\n",
      "    @ ./essentials.jl:706 [inlined]\n",
      "  [9] (::VSCodeServer.var\"#160#161\"{VSCodeServer.NotebookRunCellArguments, String})()\n",
      "    @ VSCodeServer ~/.vscode/extensions/julialang.language-julia-1.6.17/scripts/packages/VSCodeServer/src/serve_notebook.jl:19\n",
      " [10] withpath(f::VSCodeServer.var\"#160#161\"{VSCodeServer.NotebookRunCellArguments, String}, path::String)\n",
      "    @ VSCodeServer ~/.vscode/extensions/julialang.language-julia-1.6.17/scripts/packages/VSCodeServer/src/repl.jl:184\n",
      " [11] notebook_runcell_request(conn::VSCodeServer.JSONRPC.JSONRPCEndpoint{Base.PipeEndpoint, Base.PipeEndpoint}, params::VSCodeServer.NotebookRunCellArguments)\n",
      "    @ VSCodeServer ~/.vscode/extensions/julialang.language-julia-1.6.17/scripts/packages/VSCodeServer/src/serve_notebook.jl:13\n",
      " [12] dispatch_msg(x::VSCodeServer.JSONRPC.JSONRPCEndpoint{Base.PipeEndpoint, Base.PipeEndpoint}, dispatcher::VSCodeServer.JSONRPC.MsgDispatcher, msg::Dict{String, Any})\n",
      "    @ VSCodeServer.JSONRPC ~/.vscode/extensions/julialang.language-julia-1.6.17/scripts/packages/JSONRPC/src/typed.jl:67\n",
      " [13] serve_notebook(pipename::String, outputchannel_logger::Base.CoreLogging.SimpleLogger; crashreporting_pipename::String)\n",
      "    @ VSCodeServer ~/.vscode/extensions/julialang.language-julia-1.6.17/scripts/packages/VSCodeServer/src/serve_notebook.jl:136\n",
      " [14] top-level scope\n",
      "    @ ~/.vscode/extensions/julialang.language-julia-1.6.17/scripts/notebook/notebook.jl:32\n",
      " [15] include(mod::Module, _path::String)\n",
      "    @ Base ./Base.jl:386\n",
      " [16] exec_options(opts::Base.JLOptions)\n",
      "    @ Base ./client.jl:285\n",
      " [17] _start()\n",
      "    @ Base ./client.jl:485"
     ]
    }
   ],
   "source": [
    "\n",
    "# load packages\n",
    "using DelimitedFiles\n",
    "\n",
    "# read data\n",
    "slr_data = readdlm(\"data/CSIRO_Recons_gmsl_yr_2015.txt\", header=false)"
   ]
  },
  {
   "cell_type": "markdown",
   "metadata": {},
   "source": [
    "Now let's plot the reconstructed data."
   ]
  },
  {
   "cell_type": "code",
   "execution_count": null,
   "metadata": {},
   "outputs": [],
   "source": [
    "using Plots\n",
    "\n",
    "# plot reconstructed anomalies as black points\n",
    "scatter(slr_data[:, 1], slr_data[:, 2], grid=:false, color=\"black\", markersize=3, xlabel=\"Year\", ylabel=\"Sea-Level Anomaly (mm)\", legend=:topleft, label=\"Reconstructed annual mean\")"
   ]
  },
  {
   "cell_type": "markdown",
   "metadata": {},
   "source": [
    "### Global Mean Temperature\n",
    "\n",
    "The GMT dataset was obtained from the [HadCRUT4 data website](https://www.metoffice.gov.uk/hadobs/hadcrut4/data/current/download.html)"
   ]
  },
  {
   "cell_type": "markdown",
   "metadata": {},
   "source": [
    "## References\n",
    "```{bibliography}\n",
    ":filter: docname in docnames\n",
    "```"
   ]
  }
 ],
 "metadata": {
  "kernelspec": {
   "display_name": "Julia 1.6.3",
   "language": "julia",
   "name": "julia-1.6"
  },
  "language_info": {
   "file_extension": ".jl",
   "mimetype": "application/julia",
   "name": "julia",
   "version": "1.6.3"
  },
  "orig_nbformat": 4
 },
 "nbformat": 4,
 "nbformat_minor": 2
}
