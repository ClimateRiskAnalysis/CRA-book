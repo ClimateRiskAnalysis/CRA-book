{
 "cells": [
  {
   "cell_type": "markdown",
   "metadata": {},
   "source": [
    "# Selecting A Sea Level Model"
   ]
  },
  {
   "cell_type": "code",
   "execution_count": 5,
   "metadata": {},
   "outputs": [
    {
     "ename": "Base.IOError",
     "evalue": "IOError: pwd(): no such file or directory (ENOENT)",
     "output_type": "error",
     "traceback": [
      "IOError: pwd(): no such file or directory (ENOENT)\n",
      "\n",
      "Stacktrace:\n",
      "  [1] uv_error\n",
      "    @ ./libuv.jl:97 [inlined]\n",
      "  [2] pwd()\n",
      "    @ Base.Filesystem ./file.jl:59\n",
      "  [3] abspath(a::String)\n",
      "    @ Base.Filesystem ./path.jl:392\n",
      "  [4] activate(path::String; shared::Bool, temp::Bool, io::Base.DevNull)\n",
      "    @ Pkg.API /Users/julia/buildbot/worker/package_macos64/build/usr/share/julia/stdlib/v1.6/Pkg/src/API.jl:1466\n",
      "  [5] top-level scope\n",
      "    @ ~/Teaching/CRA-book/contents/flood/slr_model.ipynb:2\n",
      "  [6] eval\n",
      "    @ ./boot.jl:360 [inlined]\n",
      "  [7] include_string(mapexpr::typeof(REPL.softscope), mod::Module, code::String, filename::String)\n",
      "    @ Base ./loading.jl:1116\n",
      "  [8] #invokelatest#2\n",
      "    @ ./essentials.jl:708 [inlined]\n",
      "  [9] invokelatest\n",
      "    @ ./essentials.jl:706 [inlined]\n",
      " [10] (::VSCodeServer.var\"#160#161\"{VSCodeServer.NotebookRunCellArguments, String})()\n",
      "    @ VSCodeServer ~/.vscode/extensions/julialang.language-julia-1.6.17/scripts/packages/VSCodeServer/src/serve_notebook.jl:19\n",
      " [11] withpath(f::VSCodeServer.var\"#160#161\"{VSCodeServer.NotebookRunCellArguments, String}, path::String)\n",
      "    @ VSCodeServer ~/.vscode/extensions/julialang.language-julia-1.6.17/scripts/packages/VSCodeServer/src/repl.jl:184\n",
      " [12] notebook_runcell_request(conn::VSCodeServer.JSONRPC.JSONRPCEndpoint{Base.PipeEndpoint, Base.PipeEndpoint}, params::VSCodeServer.NotebookRunCellArguments)\n",
      "    @ VSCodeServer ~/.vscode/extensions/julialang.language-julia-1.6.17/scripts/packages/VSCodeServer/src/serve_notebook.jl:13\n",
      " [13] dispatch_msg(x::VSCodeServer.JSONRPC.JSONRPCEndpoint{Base.PipeEndpoint, Base.PipeEndpoint}, dispatcher::VSCodeServer.JSONRPC.MsgDispatcher, msg::Dict{String, Any})\n",
      "    @ VSCodeServer.JSONRPC ~/.vscode/extensions/julialang.language-julia-1.6.17/scripts/packages/JSONRPC/src/typed.jl:67\n",
      " [14] serve_notebook(pipename::String, outputchannel_logger::Base.CoreLogging.SimpleLogger; crashreporting_pipename::String)\n",
      "    @ VSCodeServer ~/.vscode/extensions/julialang.language-julia-1.6.17/scripts/packages/VSCodeServer/src/serve_notebook.jl:136\n",
      " [15] top-level scope\n",
      "    @ ~/.vscode/extensions/julialang.language-julia-1.6.17/scripts/notebook/notebook.jl:32\n",
      " [16] include(mod::Module, _path::String)\n",
      "    @ Base ./Base.jl:386\n",
      " [17] exec_options(opts::Base.JLOptions)\n",
      "    @ Base ./client.jl:285\n",
      " [18] _start()\n",
      "    @ Base ./client.jl:485"
     ]
    }
   ],
   "source": [
    "import Pkg\n",
    "Pkg.activate(\".\"; io=devnull);\n",
    "Pkg.instantiate(; io=devnull);"
   ]
  },
  {
   "cell_type": "markdown",
   "metadata": {},
   "source": [
    "## Candidate Models\n",
    "\n",
    "A key consideration in any modeling exercise is the mathematical representation of the modeled process. This choice can allow or prohibit certain relationships between variables, or may result in too many or too few parameters to appropriately capture dynamics. For example, a simple linear model in time, \n",
    "```{math}\n",
    "H_\\text{lin}(t) = a + b*(t - t_0),\n",
    "```\n",
    "where $H$ is global sea level in $m$, $t$ is time in years and $t_0$ is a baseline year, does not allow for accelerated sea-level rise. A quadratic model in time, \n",
    "```{math}\n",
    "H_\\text{quad}(t) = a + b*(t - t_0) + c*(t - t_0)^2,\n",
    "```\n",
    "does allow for this acceleration. \n",
    "\n",
    "However, both of these models assume that time is the key variable explaining changes in sea levels from one year to another. In [](#introduction-to-coastal-flood-risk), we discussed the relationship between CO_2 concentrations, atmospheric temperature, and sea levels. {cite:t}`rahmstorfSemiEmpiricalApproachProjecting2007` proposed the following semi-empirical model relating sea-level rise (SLR) to changes in global mean temperatures:\n",
    "```{math}\n",
    "\\Delta H_\\text{emp}(t) = \\alpha \\left(T(t) - T_{\\text{eq}}\\right),\n",
    "```\n",
    "where $\\alpha$ is the sensitivity of SLR to temperature changes, and $T_\\text{eq}$ is the temperature when sea level is at equilibrium, that is, $H_\\text{emph}(t) = H_\\text{emp}(t-1)$ when $T(t) = T_\\text{eq}$. In the next section, we will look at how we can find best-fit parameter values for these models to sea-level data and analyze the dynamics of these fitted models."
   ]
  },
  {
   "cell_type": "markdown",
   "metadata": {},
   "source": [
    "## Loading and Plotting The Data\n",
    "\n",
    "To fit the three models described in [](#candidate-models), we need to load historical SLR data (for all three models) and global mean temperature (GMT) data (for $H_\\text{emp}$). We have provided two data sets in `contents/flood/data`.\n",
    "\n",
    "### Reading Data Files\n",
    "\n",
    "The SLR data file, `CSIRO_Recons_gmsl_yr_2015.csv`, \n",
    "```{margin} SLR Data Information\n",
    "The SLR dataset was taken from Australia's [Commonwealth Scientific and Industrial Research Organization (CSIRO)](https://research.csiro.au/slrwavescoast/sea-level/measurements-and-data/sea-level-data/) and described in {cite:t}`churchSealevelRiseLate2011`. This reconstruction of global mean sea levels spans 1880--2013. \n",
    "```\n",
    "has three columns:\n",
    "1. Time in years (the fractions correspond to months);\n",
    "2. Global mean sea-level in $mm$ (relative to the 1961-1990 mean);\n",
    "3. Standard deviation of the observational error in $mm$.\n",
    "\n",
    "The GMT data has a similar structure: a header and comma-delimited. \n",
    "```{margin} GMT Data Information\n",
    "The GMT data was obtained from the [HadCRUT5 website](https://www.metoffice.gov.uk/hadobs/hadcrut5/) {cite:p}`moriceUpdatedAssessmentSurface2021`.\n",
    "``` \n",
    "This file, `HadCRUT.5.0.1.0.analysis.summary_series.global.annual.csv`, also has four columns, along with a header:\n",
    "1. Time in years;\n",
    "2. Annual mean temperature anomaly (relative to the 1961-1990 mean);\n",
    "3. The lower end of the 95% confidence interval;\n",
    "4. The upper end of the 95% confidence interval.\n",
    "\n",
    "In Julia, we can read in these files using the [`DelimitedFiles` package](https://docs.julialang.org/en/v1/stdlib/DelimitedFiles/). The `DelimitedFiles.readdlm` function takes in a filename, and can also take in optional parameters like a delimiter and an output type. We can also convert the output of `DelimitedFiles.readdlm` to a [`DataFrame`](https://dataframes.juliadata.org/stable/). Since we want to read multiple files, let's write a function which takes in filename corresponding to a CSV file with a header and returns a `DataFrame`."
   ]
  },
  {
   "cell_type": "code",
   "execution_count": 3,
   "metadata": {},
   "outputs": [
    {
     "ename": "ArgumentError",
     "evalue": "ArgumentError: Cannot open 'data/CSIRO_Recons_gmsl_yr_2015.txt': not a file",
     "output_type": "error",
     "traceback": [
      "ArgumentError: Cannot open 'data/CSIRO_Recons_gmsl_yr_2015.txt': not a file\n",
      "\n",
      "Stacktrace:\n",
      "  [1] readdlm_auto(input::String, dlm::Char, T::Type, eol::Char, auto::Bool; opts::Base.Iterators.Pairs{Symbol, Bool, Tuple{Symbol}, NamedTuple{(:header,), Tuple{Bool}}})\n",
      "    @ DelimitedFiles /Users/julia/buildbot/worker/package_macos64/build/usr/share/julia/stdlib/v1.6/DelimitedFiles/src/DelimitedFiles.jl:233\n",
      "  [2] #readdlm#5\n",
      "    @ /Users/julia/buildbot/worker/package_macos64/build/usr/share/julia/stdlib/v1.6/DelimitedFiles/src/DelimitedFiles.jl:170 [inlined]\n",
      "  [3] #readdlm#3\n",
      "    @ /Users/julia/buildbot/worker/package_macos64/build/usr/share/julia/stdlib/v1.6/DelimitedFiles/src/DelimitedFiles.jl:118 [inlined]\n",
      "  [4] top-level scope\n",
      "    @ ~/Teaching/CRA-book/contents/flood/slr_model.ipynb:6\n",
      "  [5] eval\n",
      "    @ ./boot.jl:360 [inlined]\n",
      "  [6] include_string(mapexpr::typeof(REPL.softscope), mod::Module, code::String, filename::String)\n",
      "    @ Base ./loading.jl:1116\n",
      "  [7] #invokelatest#2\n",
      "    @ ./essentials.jl:708 [inlined]\n",
      "  [8] invokelatest\n",
      "    @ ./essentials.jl:706 [inlined]\n",
      "  [9] (::VSCodeServer.var\"#160#161\"{VSCodeServer.NotebookRunCellArguments, String})()\n",
      "    @ VSCodeServer ~/.vscode/extensions/julialang.language-julia-1.6.17/scripts/packages/VSCodeServer/src/serve_notebook.jl:19\n",
      " [10] withpath(f::VSCodeServer.var\"#160#161\"{VSCodeServer.NotebookRunCellArguments, String}, path::String)\n",
      "    @ VSCodeServer ~/.vscode/extensions/julialang.language-julia-1.6.17/scripts/packages/VSCodeServer/src/repl.jl:184\n",
      " [11] notebook_runcell_request(conn::VSCodeServer.JSONRPC.JSONRPCEndpoint{Base.PipeEndpoint, Base.PipeEndpoint}, params::VSCodeServer.NotebookRunCellArguments)\n",
      "    @ VSCodeServer ~/.vscode/extensions/julialang.language-julia-1.6.17/scripts/packages/VSCodeServer/src/serve_notebook.jl:13\n",
      " [12] dispatch_msg(x::VSCodeServer.JSONRPC.JSONRPCEndpoint{Base.PipeEndpoint, Base.PipeEndpoint}, dispatcher::VSCodeServer.JSONRPC.MsgDispatcher, msg::Dict{String, Any})\n",
      "    @ VSCodeServer.JSONRPC ~/.vscode/extensions/julialang.language-julia-1.6.17/scripts/packages/JSONRPC/src/typed.jl:67\n",
      " [13] serve_notebook(pipename::String, outputchannel_logger::Base.CoreLogging.SimpleLogger; crashreporting_pipename::String)\n",
      "    @ VSCodeServer ~/.vscode/extensions/julialang.language-julia-1.6.17/scripts/packages/VSCodeServer/src/serve_notebook.jl:136\n",
      " [14] top-level scope\n",
      "    @ ~/.vscode/extensions/julialang.language-julia-1.6.17/scripts/notebook/notebook.jl:32\n",
      " [15] include(mod::Module, _path::String)\n",
      "    @ Base ./Base.jl:386\n",
      " [16] exec_options(opts::Base.JLOptions)\n",
      "    @ Base ./client.jl:285\n",
      " [17] _start()\n",
      "    @ Base ./client.jl:485"
     ]
    }
   ],
   "source": [
    "\n",
    "# load packages\n",
    "using DataFrames\n",
    "using DelimitedFiles\n",
    "\n",
    "function read_csv(fname)\n",
    "    dat, head = readdlm(fname, ',', header=true) # read in the data and header\n",
    "    return DataFrame(dat, vec(head)) # return the DataFrame\n",
    "end\n",
    "\n",
    "# read data; first read in the data and the header, then convert to a DataFrame\n",
    "slr_data = read_csv(\"data/CSIRO_Recons_gmsl_yr_2015.csv\")"
   ]
  },
  {
   "cell_type": "markdown",
   "metadata": {},
   "source": [
    "Similarly, we'll use `read_csv` to read in the GMT data."
   ]
  },
  {
   "cell_type": "code",
   "execution_count": null,
   "metadata": {},
   "outputs": [],
   "source": [
    "gmt_data = read_csv(\"data/HadCRUT.5.0.1.0.analysis.summary_series.global.annual.csv\")"
   ]
  },
  {
   "cell_type": "markdown",
   "metadata": {},
   "source": [
    "### Merging The Data\n",
    "\n",
    "Now let's merge (or [\"join\"](https://dataframes.juliadata.org/stable/man/joins/)) the two DataFrames on common years. Then we can plot the two data series. \n",
    "```{margin} Database-style joins\n",
    "Database-style joins allow a flexible way to merge two DataFrames (and other tabular data structures) on a common column (the \"key\"). There are several different styles of joins:\n",
    "* *Inner joins* only return rows with key values which occur in all of the merged databases;\n",
    "* *Outer joins* returns all rows with key values which occur in any merged database;\n",
    "* *Left joins* return rows with key values occurring in the first (left) database;\n",
    "* *Right joins* return rows with key values occurring in the second (right) database.\n",
    "\n",
    "The [`DataFrames` documentation](https://dataframes.juliadata.org/stable/man/joins/) provides information on these, as well as some other, more specialized, joins.\n",
    "```\n",
    "\n",
    "There are many types of joins. Our goal is to focus on the SLR data, so let's use an \"left join\" (which includes all entries from the first listed `DataFrame` and entries from the second `DataFrame` which correspond to matching key values). First, we need to correct the \"Time\" column in `slr_data`, as those values end with a non-zero decimal."
   ]
  },
  {
   "cell_type": "code",
   "execution_count": 1,
   "metadata": {},
   "outputs": [
    {
     "ename": "UndefVarError",
     "evalue": "UndefVarError: slr_data not defined",
     "output_type": "error",
     "traceback": [
      "UndefVarError: slr_data not defined\n",
      "\n",
      "Stacktrace:\n",
      "  [1] top-level scope\n",
      "    @ ~/Teaching/CRA-book/contents/flood/slr_model.ipynb:1\n",
      "  [2] eval\n",
      "    @ ./boot.jl:360 [inlined]\n",
      "  [3] include_string(mapexpr::typeof(REPL.softscope), mod::Module, code::String, filename::String)\n",
      "    @ Base ./loading.jl:1116\n",
      "  [4] #invokelatest#2\n",
      "    @ ./essentials.jl:708 [inlined]\n",
      "  [5] invokelatest\n",
      "    @ ./essentials.jl:706 [inlined]\n",
      "  [6] (::VSCodeServer.var\"#160#161\"{VSCodeServer.NotebookRunCellArguments, String})()\n",
      "    @ VSCodeServer ~/.vscode/extensions/julialang.language-julia-1.6.17/scripts/packages/VSCodeServer/src/serve_notebook.jl:19\n",
      "  [7] withpath(f::VSCodeServer.var\"#160#161\"{VSCodeServer.NotebookRunCellArguments, String}, path::String)\n",
      "    @ VSCodeServer ~/.vscode/extensions/julialang.language-julia-1.6.17/scripts/packages/VSCodeServer/src/repl.jl:184\n",
      "  [8] notebook_runcell_request(conn::VSCodeServer.JSONRPC.JSONRPCEndpoint{Base.PipeEndpoint, Base.PipeEndpoint}, params::VSCodeServer.NotebookRunCellArguments)\n",
      "    @ VSCodeServer ~/.vscode/extensions/julialang.language-julia-1.6.17/scripts/packages/VSCodeServer/src/serve_notebook.jl:13\n",
      "  [9] dispatch_msg(x::VSCodeServer.JSONRPC.JSONRPCEndpoint{Base.PipeEndpoint, Base.PipeEndpoint}, dispatcher::VSCodeServer.JSONRPC.MsgDispatcher, msg::Dict{String, Any})\n",
      "    @ VSCodeServer.JSONRPC ~/.vscode/extensions/julialang.language-julia-1.6.17/scripts/packages/JSONRPC/src/typed.jl:67\n",
      " [10] serve_notebook(pipename::String, outputchannel_logger::Base.CoreLogging.SimpleLogger; crashreporting_pipename::String)\n",
      "    @ VSCodeServer ~/.vscode/extensions/julialang.language-julia-1.6.17/scripts/packages/VSCodeServer/src/serve_notebook.jl:136\n",
      " [11] top-level scope\n",
      "    @ ~/.vscode/extensions/julialang.language-julia-1.6.17/scripts/notebook/notebook.jl:32\n",
      " [12] include(mod::Module, _path::String)\n",
      "    @ Base ./Base.jl:386\n",
      " [13] exec_options(opts::Base.JLOptions)\n",
      "    @ Base ./client.jl:285\n",
      " [14] _start()\n",
      "    @ Base ./client.jl:485"
     ]
    }
   ],
   "source": [
    "slr_data[:, :Time] = slr_data[:, :Time] .- 0.5; # remove 0.5 from Times\n",
    "all_data = leftjoin(slr_data, gmt_data, on=\"Time\") # outer join the data frames on Time"
   ]
  },
  {
   "cell_type": "markdown",
   "metadata": {},
   "source": [
    "### Plotting The Data\n",
    "\n",
    "Now we can plot the observations. Since we merged the DataFrame, we can pass two of the columns to `Plots.plot` and a layout, and it will automatically plot them as subplots (though we do have to convert the y-values to a `Matrix`)."
   ]
  },
  {
   "cell_type": "code",
   "execution_count": null,
   "metadata": {},
   "outputs": [],
   "source": [
    "using Plots\n",
    "\n",
    "# plot reconstructed anomalies as black points\n",
    "scatter(all_data[:, 1], Matrix(all_data[:, [2, 4]]), grid=:false, markersize=3, xlabel=\"Year\", legend=:none, layout=(2,1), plot_title=\"Anomaly Relative to 1961-1990 Mean\", ylabel=[\"mm\" \"°C\"], title=[\"Global Mean Sea Level\" \"Global Mean Temperature\"])"
   ]
  },
  {
   "cell_type": "markdown",
   "metadata": {},
   "source": [
    "## Fitting the Models to the Data\n",
    "\n",
    "Now we can write functions to predict the SLR using the three models defined in [](#candidate-models)."
   ]
  },
  {
   "cell_type": "code",
   "execution_count": null,
   "metadata": {},
   "outputs": [],
   "source": [
    "# H_lin\n",
    "function H_lin(t, a, b)\n",
    "    slr_predict = a .+ (b .* (t .- t[1]))\n",
    "    return slr_predict\n",
    "end\n",
    "\n",
    "# H_quad\n",
    "function H_quad(t, a, b, c)\n",
    "    slr_predict = a .+ (b .* (t .- t[1])) + (c .* (t .- t[1]).^2)\n",
    "    return slr_predict\n",
    "end\n",
    "\n",
    "# H_emp\n",
    "function H_emp(temp, α, T₀, H₀)\n",
    "    temp_effect = α .* (temp .- T₀)\n",
    "    slr_predict = cumsum(temp_effect) .+ H₀\n",
    "    return slr_predict\n",
    "end"
   ]
  },
  {
   "cell_type": "markdown",
   "metadata": {},
   "source": [
    "To find parameter values for the models, we will minimize the root-mean-square-error (RMSE):\n",
    "```{math}\n",
    "\\text{RMSE} = \\sqrt{\\sum_{t=1}^T\\left(\\text{pred}_t - \\text{obs}_t\\right)^2},\n",
    "```\n",
    "where $t$ is the time index, $\\text{pred}_t$ is the model prediction, and $\\text{obs}_t$ is the data value.\n",
    "\n",
    "We can find parameter values which minimize the RMSE using [Optim.jl](https://julianlsolvers.github.io/Optim.jl/stable/#). The `Optim.optimize` function minimizes a function value using one of several numerical solvers. `Optim.optimize` wants its input function to accept a vector of proposed parameter values, so we need to construct a wrapper function which accepts a parameter vector and passes the relevant values to the target function, before calculating the RMSE. \n",
    "\n",
    "Even though we have three different functions to optimize, we can take advantage of how we defined those functions --- they all take in an auxiliary vector (time `t` for `H_lin` and `H_quad` and temperature `temp` for `H_emp`) followed by unknown parameter values.\n",
    "```{margin} Using \"splat\" to unpack argument vectors\n",
    "If all of our `H` functions had the same number of uncertain parameters, we could hard-code the unpacking of a parameter vector `v` by referencing `v[1]`, `v[2]`, etc. However, we want to optimize `H_lin` with respect to two parameters, and the others with respect to three, so we can't manually unpack the parameter vectors in this fashion without writing a lot of additional code, which would reduce readability and increase the chance for bugs. Fortunately, Julia has a \"splat\" operator (`...`), which is used to automatically unpack vectors. For example, if `v` has three elements, `fn(v...)` is the same as `fn(v[1], v[2], v[3])`, except that the splat is more flexible and doesn't require additional assumptions about the length of `v`.\n",
    "``` \n",
    "As these functions all have a common structure to their arguments, we can pass that auxiliary vector, then use the splat operator to unpack the parameter vector, and the length of the parameter vector doesn't matter! We do this in the `rmse` function defined below."
   ]
  },
  {
   "cell_type": "code",
   "execution_count": null,
   "metadata": {},
   "outputs": [],
   "source": [
    "using Optim\n",
    "using Statistics # need to load Statistics for a mean function\n",
    "\n",
    "# define a function for the root-mean-squared error\n",
    "# in this function, we're using the known structure of our three functions,\n",
    "# which accept an input data vector followed by several scalar parameters\n",
    "# This input data is passed as the \"aux\" parameter\n",
    "# all of the variable parameters are passed in as a single parameter vector for optimize()\n",
    "function rmse(fn, params, aux, obs)\n",
    "    predict = fn(aux, params...) # here we use the splat operator to unpack arguments\n",
    "    rmse = sqrt(mean((predict - obs).^2))\n",
    "    return rmse\n",
    "end"
   ]
  },
  {
   "cell_type": "markdown",
   "metadata": {},
   "source": [
    "The only thing left to do is to call `Optim.optimize` on RMSE with varying functions `fn` corresponding to our three SLR models. We can deal with the constant values for each call (`fn`, `aux`, and `obs`) by using anonymous functions to map the parameter vector proposed in a given solver iteration to an `rmse` call:"
   ]
  },
  {
   "cell_type": "code",
   "execution_count": null,
   "metadata": {},
   "outputs": [],
   "source": [
    "# optimize each of the SLR models\n",
    "\n",
    "function minimize_rmse(fn, aux, obs, init_params)\n",
    "    optimize_out = optimize(params -> rmse(fn, params, aux, obs), init_params)\n",
    "    params_optim = Optim.minimizer(optimize_out)\n",
    "    return params_optim\n",
    "end"
   ]
  },
  {
   "cell_type": "code",
   "execution_count": null,
   "metadata": {},
   "outputs": [],
   "source": [
    "\n",
    "# H_lin\n",
    "# this has two uncertain parameters (a, b), so we use a 2d initial vector [0, 1]\n",
    "# we use a decimal after each initial value to make Julia interpret them as Floats, rather than Ints\n",
    "params_lin = minimize_rmse(H_lin, all_data[:, 1], all_data[:, 2], [0., 1.])"
   ]
  },
  {
   "cell_type": "code",
   "execution_count": null,
   "metadata": {},
   "outputs": [],
   "source": [
    "# H_quad\n",
    "# this has three uncertain parameters (a, b, c), so we use a 3d initial vector [0, 1, 0]\n",
    "params_quad = minimize_rmse(H_quad, all_data[:, 1], all_data[:, 2], [0., 1., 0.])"
   ]
  },
  {
   "cell_type": "code",
   "execution_count": null,
   "metadata": {},
   "outputs": [],
   "source": [
    "# H_emp\n",
    "# unlike the other two models, we pass in temperatures as the auxiliary\n",
    "# this has three uncertain parameters (α, H₀, T₀), so we use a 3d initial vector [1, 0, 0]\n",
    "params_emp = minimize_rmse(H_emp, all_data[:, 4], all_data[:, 2], [1., 0., 0.])"
   ]
  },
  {
   "cell_type": "markdown",
   "metadata": {},
   "source": [
    "Finally, let's plot the SLR hindcasts from all three fitted models to see how they perform."
   ]
  },
  {
   "cell_type": "code",
   "execution_count": null,
   "metadata": {},
   "outputs": [],
   "source": [
    "scatter(all_data[:, 1], all_data[:, 2], color=\"black\", alpha=0.7, label=\"Reconstructed Data\", legend=:topleft, grid=false, xaxis=\"Year\", yaxis=\"Sea Level Anomaly (mm)\", title=\"Global Mean Sea Level Anomaly Model Predictions\")\n",
    "plot!(all_data[:, 1], H_lin(all_data[:, 1], params_lin...), color=\"#66c2a5\", linewidth=3, label=\"H_lin\")\n",
    "plot!(all_data[:, 1], H_quad(all_data[:, 1], params_quad...), color=\"#fc8d62\", linewidth=3, label=\"H_quad\")\n",
    "plot!(all_data[:, 1], H_emp(all_data[:, 4], params_emp...), color=\"#8da0cb\", linewidth=3, label=\"H_emp\")"
   ]
  },
  {
   "cell_type": "markdown",
   "metadata": {},
   "source": [
    "We can see that the linear model $H_\\text{lin}$ (green) fails to pick up the data trend at the start and end of the period (including the acceleration at the end of the data set, which makes sense), but the quadratic and semi-empirical models $H_\\text{quad}$ (red) and $H_\\text{emp}$ (purple) both have pretty similar outputs. Comparing the RMSEs of the two models:"
   ]
  },
  {
   "cell_type": "code",
   "execution_count": null,
   "metadata": {},
   "outputs": [],
   "source": [
    "(rmse(H_quad, params_quad, all_data[:, 1], all_data[:, 2]), rmse(H_emp, params_emp, all_data[:, 4], all_data[:, 2]))"
   ]
  },
  {
   "cell_type": "markdown",
   "metadata": {},
   "source": [
    "```{margin} Choosing $H_\\text{quad}$ vs. $H_\\text{emp}$\n",
    "Since both of these models perform similarly, the choice between the two depends on what question you are asking. If you were primarily interested in inferring the historical temporal trend, $H_\\text{quad}$ might be more useful, since it makes the time-dependence explicit, while $H_\\text{emp}$ focuses on the dependence on GMT, which would be more useful for making projections given the causal link between warming and SLR.\n",
    "```\n",
    "The RMSE is slightly lower for $H_\\text{emp}$, but we want to be careful to not over-interpret small differences. Visually, the main difference is that $H_\\text{emp}$ shows more of an increase in the last few years, which matches what appears to be an acceleration in the data. As a result, for the rest of this section, we will use $H_\\text{emp}$ for our SLR modeling, but you could justify using $H_\\text{quad}$. "
   ]
  },
  {
   "cell_type": "markdown",
   "metadata": {},
   "source": [
    "```{bibliography}\n",
    ":filter: docname in docnames\n",
    "```"
   ]
  }
 ],
 "metadata": {
  "kernelspec": {
   "display_name": "Julia 1.6.3",
   "language": "julia",
   "name": "julia-1.6"
  },
  "language_info": {
   "file_extension": ".jl",
   "mimetype": "application/julia",
   "name": "julia",
   "version": "1.6.3"
  },
  "orig_nbformat": 4
 },
 "nbformat": 4,
 "nbformat_minor": 2
}
