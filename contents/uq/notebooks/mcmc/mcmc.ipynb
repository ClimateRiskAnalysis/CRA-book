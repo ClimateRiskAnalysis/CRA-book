{
 "cells": [
  {
   "cell_type": "code",
   "execution_count": null,
   "metadata": {},
   "outputs": [],
   "source": [
    "---\n",
    "title: Calibrating a Sea-Level Rise Model With Markov Chain Monte Carlo\n",
    "jupyter: julia-1.8\n",
    "---"
   ]
  },
  {
   "attachments": {},
   "cell_type": "markdown",
   "metadata": {},
   "source": [
    "### Load Environment\n",
    "\n",
    "The following code loads the environment and makes sure all needed packages are installed. This should be at the start of most Julia scripts."
   ]
  },
  {
   "cell_type": "code",
   "execution_count": null,
   "metadata": {},
   "outputs": [],
   "source": [
    "import Pkg\n",
    "Pkg.activate(@__DIR__)\n",
    "Pkg.instantiate()"
   ]
  },
  {
   "cell_type": "code",
   "execution_count": null,
   "metadata": {},
   "outputs": [],
   "source": [
    "using Random\n",
    "using CSVFiles # load CSV data\n",
    "using DataFrames # data storage and presentation\n",
    "using Plots # plotting library\n",
    "default(fmt = :png)\n",
    "using StatsPlots # statistical plotting\n",
    "using Distributions # statistical distribution interface\n",
    "using PDMats # positive-definite matrices\n",
    "using Turing # probabilistic programming and MCMC\n",
    "using Optim # optimization library\n"
   ]
  },
  {
   "cell_type": "code",
   "execution_count": null,
   "metadata": {},
   "outputs": [],
   "source": [
    "Random.seed!(1)"
   ]
  },
  {
   "attachments": {},
   "cell_type": "markdown",
   "metadata": {},
   "source": [
    "## Load Data\n",
    "\n",
    "First, we'll load the data we will use for calibration. The sea-level data was obtained from Australia's [Commonwealth Scientific and Industrial Research Organization (CSIRO)](https://research.csiro.au/slrwavescoast/sea-level/measurements-and-data/sea-level-data/) and is described in [@churchSealevelRiseLate2011]. This reconstruction of global mean sea levels spans 1880--2019.\n",
    "has three columns:\n",
    "1. Time in years (the fractions correspond to months);\n",
    "2. Global mean sea-level in $mm$ (relative to the 1961-1990 mean);\n",
    "3. Standard deviation of the observational error in $mm$.\n",
    "\n",
    "The GMT data was obtained from the [HadCRUT5 website](https://www.metoffice.gov.uk/hadobs/hadcrut5/) [@moriceUpdatedAssessmentSurface2021]. It has a similar structure: a header and comma-delimited. This file, `HadCRUT.5.0.1.0.analysis.summary_series.global.annual.csv`, also has four columns, along with a header:\n",
    "1. Time in years;\n",
    "2. Annual mean temperature anomaly (relative to the 1961-1990 mean);\n",
    "3. The lower end of the 95% confidence interval;\n",
    "4. The upper end of the 95% confidence interval."
   ]
  },
  {
   "cell_type": "code",
   "execution_count": null,
   "metadata": {},
   "outputs": [],
   "source": [
    "# load data files\n",
    "slr_data = DataFrame(load(\"https://hpc.csiro.au/users/326141/Sea_Level_data/gmsl_files/CSIRO_Recons_gmsl_yr_2019.csv\"))\n",
    "gmt_data = DataFrame(load(\"https://www.metoffice.gov.uk/hadobs/hadcrut5/data/current/analysis/diagnostics/HadCRUT.5.0.1.0.analysis.summary_series.global.annual.csv\"))\n",
    "\n",
    "slr_data[:, :Time] = slr_data[:, :Time] .- 0.5; # remove 0.5 from Times\n",
    "dat = leftjoin(slr_data, gmt_data, on=\"Time\") # join data frames on time\n",
    "select!(dat, [1, 2, 4])  # drop columns we don't need\n",
    "rename!(dat, \"Time\" => \"year\", \"GMSL (mm)\" => \"gmsl\", \"Anomaly (deg C)\" => \"temp\")\n",
    "last(dat, 6)"
   ]
  },
  {
   "attachments": {},
   "cell_type": "markdown",
   "metadata": {},
   "source": [
    "Next, let's plot the data series."
   ]
  },
  {
   "cell_type": "code",
   "execution_count": null,
   "metadata": {},
   "outputs": [],
   "source": [
    "#| label: fig-mcmc-data\n",
    "#| fig-cap: \"Data used for sea-level model calibration.\"\n",
    "#| fig-subcap:\n",
    "#|   - \"Global mean temperature anomaly data from [HadCRUT5](https://www.metoffice.gov.uk/hadobs/hadcrut5/) from 1880--2019.\"\n",
    "#|   - \"Global mean sea-level anomaly reconstruction from [CSIRO](https://research.csiro.au/slrwavescoast/sea-level/measurements-and-data/sea-level-data/) from 1880--2019.\"\n",
    "#| fig-alt:\n",
    "#|   - \"Global mean temperature anomaly\"\n",
    "#|   - \"Global mean sea-level anomaly\"\n",
    "#| layout-nrow: 2\n",
    "\n",
    "p1 = @df dat scatter(:year, :temp, ylabel=\"°C\", label=\"Global Mean Temperature\")\n",
    "display(p1)\n",
    "p2 = @df dat scatter(:year, :gmsl, ylabel=\"mm\", label=\"Global Mean Sea Level\")\n",
    "display(p2)"
   ]
  },
  {
   "attachments": {},
   "cell_type": "markdown",
   "metadata": {},
   "source": [
    "In this notebook, we will use Markov chain Monte Carlo to calibrate the @rahmstorfSemiEmpiricalApproachProjecting2007 semi-empirical sea-level rise model:\n",
    "$$\\frac{dH(t)}{dt} = \\alpha (T(t) - T_0),$$\n",
    "where $H(t)$ is global mean sea-level anomaly (in mm), $T(t)$ is the global mean surface temperature (in $^\\circ$ C), $T_0$ is the temperature (in $^\\circ$ C) when sea-level rise is in equilibrium, and $\\alpha$ is the sea-level rise sensitivity to warming. Discretizing this equation with an annual time step yields\n",
    "$$H(t+1) = H(t) + \\alpha (T(t) - T_0).$$\n",
    "\n",
    "A key question is what parameter values for this model are consistent with the data. In some cases, this question is interesting to help us understand the dynamics of the system. More generally, if we can express this consistency in the form of probability distributions, we can then use Monte Carlo sampling to propagate this parametric uncertainty through the model to obtain hindcasts and projections."
   ]
  },
  {
   "attachments": {},
   "cell_type": "markdown",
   "metadata": {},
   "source": [
    "## Setting up the Model"
   ]
  },
  {
   "attachments": {},
   "cell_type": "markdown",
   "metadata": {},
   "source": [
    "First, we need a function which represents the @rahmstorfSemiEmpiricalApproachProjecting2007 model. This requires three parameters:\n",
    "- $\\alpha$;\n",
    "- $T_0$;\n",
    "- $H_0$ (the initial sea-level anomaly).\n",
    "\n",
    "We also need to pass in the temperature data. The resulting function is below."
   ]
  },
  {
   "cell_type": "code",
   "execution_count": null,
   "metadata": {},
   "outputs": [],
   "source": [
    "function rahmstorf_model(α, T₀, H₀, temp_data)\n",
    "    temp_effect = α .* (temp_data .- T₀)\n",
    "    slr_predict = cumsum(temp_effect) .+ H₀\n",
    "    return slr_predict\n",
    "end"
   ]
  },
  {
   "attachments": {},
   "cell_type": "markdown",
   "metadata": {},
   "source": [
    "Next, let's specify the statistical model. Denote the residuals as $$R(\\mathbf{x}, t)=y_t - F(\\mathbf{x}, t),$$ where $y_t$ is the data at time $t$ and $F(\\mathbf{x}, t)$ is the model output at time $t$ with parameters $\\mathbf{x} = (\\alpha, T_0, H_0)$. \n",
    "\n",
    "We will assume $R(\\mathbf{x}, t)$ is an AR(1) process, *i.e.* \n",
    "$$\\begin{gather*}\n",
    "R(\\mathbf{x}, t) = \\rho z(\\mathbf{x}, t-1) + \\omega_t, \\quad \\omega_t \\sim \\text{Normal}(0, \\sigma^2)\n",
    "\\end{gather*}\n",
    "$$"
   ]
  },
  {
   "attachments": {},
   "cell_type": "markdown",
   "metadata": {},
   "source": [
    "The unconditional variance of an AR(1) process is $$\\text{Var}(z) = \\frac{\\sigma^2}{1-\\rho^2},$$ so the likelihood for $R$ (abusing notation to suppress referencing the parameters) can be written as:\n",
    "$$\n",
    "\\begin{gather*}\n",
    "R_1 \\sim \\text{Normal}(0, \\sigma/\\sqrt{1-\\rho^2}) \\\\\n",
    "R_t \\sim \\text{Normal}(\\rho R_{t-1}, \\sigma)\n",
    "\\end{gather*}\n",
    "$$"
   ]
  },
  {
   "attachments": {},
   "cell_type": "markdown",
   "metadata": {},
   "source": [
    "### Selecting Priors\n",
    "\n",
    "The last step before we can write our statistical model is to select priors. We will choose relatively uninformative priors for $\\alpha$, $T_0$, and $H_0$, using normal distributions. For the scale parameters $\\tau$ and $\\sigma$, we will choose truncated normal distributions to ensure that they take only positive values. We will also use a uniform prior for $\\rho$ over the interval $[-1, 1]$, as $|\\rho| < 1$."
   ]
  },
  {
   "cell_type": "code",
   "execution_count": null,
   "metadata": {},
   "outputs": [],
   "source": [
    "@model function slr_posterior(sealevels, temps)\n",
    "    ## define priors\n",
    "    α ~ truncated(Normal(0, 2); lower=0)\n",
    "    T₀ ~ Normal(0, 5)\n",
    "    H₀ ~ Normal(-100, 50)\n",
    "    ρ ~ Uniform(-1, 1)\n",
    "    σ ~ truncated(Normal(0, 5); lower=0)\n",
    "\n",
    "    ## define likelihood\n",
    "    # evaluate model\n",
    "    slr_predict = rahmstorf_model(α, T₀, H₀, temps)\n",
    "    # compute likelihood\n",
    "    n = length(temps)\n",
    "    sealevels[1] ~ Normal(slr_predict[1], σ / sqrt(1-ρ^2)) # initial value\n",
    "    # loop over subsequent values and add likelihood\n",
    "    for i = 2:n\n",
    "        sealevels[i] ~ Normal(ρ * (sealevels[i-1] - slr_predict[i-1]) + slr_predict[i], σ)\n",
    "    end\n",
    "end"
   ]
  },
  {
   "attachments": {},
   "cell_type": "markdown",
   "metadata": {},
   "source": [
    "## Sampling from the Posterior\n",
    "\n",
    "To sample from the posterior, we use `Turing.sample()`. This requires setting the sampler; we will use the No U-Turn Sampler [@Hoffman2014-gv], which is an adaptive Hamiltonian Monte Carlo sampler. \n",
    "\n",
    "We will also use multiple chains, which will let us look at certain convergence diagnostics."
   ]
  },
  {
   "cell_type": "code",
   "execution_count": null,
   "metadata": {},
   "outputs": [],
   "source": [
    "model = slr_posterior(dat[!, 2], dat[!, 3]) # load the data into the model object\n",
    "n_per_chain = 10000\n",
    "n_chains = 4\n",
    "chain =  sample(model, NUTS(), MCMCThreads(), n_per_chain, n_chains; drop_warmup=true) # drop chain warmup iterations"
   ]
  },
  {
   "attachments": {},
   "cell_type": "markdown",
   "metadata": {},
   "source": [
    "## Diagnosing Convergence\n",
    "\n",
    "The first step in diagnosing convergence is to look at the traceplots and marginal distributions of the chains. If multiple chains, which were initialized at various values, have the same distribution, that is evidence of convergence."
   ]
  },
  {
   "cell_type": "code",
   "execution_count": null,
   "metadata": {},
   "outputs": [],
   "source": [
    "#| label: fig-mcmc-traceplot\n",
    "#| fig-cap: \"Traceplots and marginal posterior distributions from the MCMC sampler. Each individual chain's samples are shown in a different color.\"\n",
    "#| fig-alt: \"MCMC sampler output\"\n",
    "\n",
    "plot(chain)"
   ]
  },
  {
   "attachments": {},
   "cell_type": "markdown",
   "metadata": {},
   "source": [
    "We can also look at the Gelman-Rubin statistic $\\hat{R}$, which is based on comparing the variation between chains to the variation within a single chain. The closer $\\hat{R}$ is to 1, the more evidence for convergence, as this suggests the between-chain variation is close to zero."
   ]
  },
  {
   "cell_type": "code",
   "execution_count": null,
   "metadata": {},
   "outputs": [],
   "source": [
    "#| label: tbl-gelman\n",
    "#| tbl-cap: Gelman-Rubin diagnostic values.\n",
    "\n",
    "gelmandiag(chain)"
   ]
  },
  {
   "attachments": {},
   "cell_type": "markdown",
   "metadata": {},
   "source": [
    "## Visualizing Relationships Between Parameters\n",
    "\n",
    "The previous plot let us look at the *marginal* posterior distributions, that is, the distribution for that parameter only. However, we are more commonly interested in the *joint* distribution, which accounts for correlations between the parameters. We can see these correlations with a cornerplot."
   ]
  },
  {
   "cell_type": "code",
   "execution_count": null,
   "metadata": {},
   "outputs": [],
   "source": [
    "#| label: fig-mcmc-corner\n",
    "#| fig-cap: Corner plot between the sampled parameters. The plots along the lower triangle show scatterplots between the corresponding two variables. In the margin are marginal density plots. If the scatterplots are colored blue, the two variables are positively correlated, and red shows a negative correlation.\n",
    "\n",
    "corner(chain)"
   ]
  },
  {
   "attachments": {},
   "cell_type": "markdown",
   "metadata": {},
   "source": [
    "We can see, for example, that $\\alpha$, $T_0$, and $H_0$ are highly positively correlated with each other. This makes sense, as a larger value of $\\alpha$ means that sea-level is more sensitive to temperature increases over $T_0$. As a result, if $T_0$ is low and $\\alpha$ is high, the resulting modeled sea level anomaly will be larger than the observations. Conversely, if $T_0$ is high and $\\alpha$ is low, the model will under-predict the level of sea-level rise. Similar logic also explains why $H_0$ should be positively correlated with $\\alpha$ and $T_0$."
   ]
  }
 ],
 "metadata": {
  "kernelspec": {
   "display_name": "Julia 1.8.2",
   "language": "julia",
   "name": "julia-1.8"
  },
  "language_info": {
   "file_extension": ".jl",
   "mimetype": "application/julia",
   "name": "julia",
   "version": "1.8.2"
  },
  "orig_nbformat": 4
 },
 "nbformat": 4,
 "nbformat_minor": 2
}
